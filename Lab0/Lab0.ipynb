{
 "cells": [
  {
   "cell_type": "markdown",
   "id": "64b4b914-c757-4c2f-92b8-076cea9b8162",
   "metadata": {
    "tags": []
   },
   "source": [
    "# Lab 0"
   ]
  },
  {
   "cell_type": "markdown",
   "id": "ed9a2c8f-98af-4188-b73a-aa6ad77bb5f4",
   "metadata": {
    "tags": []
   },
   "source": [
    "### 5. Given string return a dictionary with each different char is key and value num of occurrences of that char in string"
   ]
  },
  {
   "cell_type": "code",
   "execution_count": 46,
   "id": "fd725524-f393-4f24-b3ae-b6ba49bccd95",
   "metadata": {},
   "outputs": [
    {
     "data": {
      "text/plain": [
       "'abcdefghijklmnopqrstuvwxyz'"
      ]
     },
     "execution_count": 46,
     "metadata": {},
     "output_type": "execute_result"
    }
   ],
   "source": [
    "from string import ascii_lowercase\n",
    "\n",
    "ascii_lowercase"
   ]
  },
  {
   "cell_type": "code",
   "execution_count": 47,
   "id": "38bdc305-da27-4178-a006-5bc1d086d070",
   "metadata": {
    "tags": []
   },
   "outputs": [
    {
     "data": {
      "text/plain": [
       "{'h': 1, 'o': 1, 'l': 2, 'a': 3}"
      ]
     },
     "execution_count": 47,
     "metadata": {},
     "output_type": "execute_result"
    }
   ],
   "source": [
    "def char_freq(s:str):\n",
    "    s = s.lower()\n",
    "    d = {}\n",
    "    for x in s:\n",
    "        d[x] =  d.get(x,0) + 1 # second arg is returned if key is not in dict\n",
    "    return d\n",
    "    \n",
    "char_freq('hollaaa')"
   ]
  },
  {
   "cell_type": "code",
   "execution_count": 50,
   "id": "e2062312-852e-4974-914a-fa964063008d",
   "metadata": {
    "tags": []
   },
   "outputs": [
    {
     "data": {
      "text/plain": [
       "Counter({'h': 1, 'o': 1, 'l': 2, 'a': 4})"
      ]
     },
     "execution_count": 50,
     "metadata": {},
     "output_type": "execute_result"
    }
   ],
   "source": [
    "from collections import Counter\n",
    "\n",
    "def char_freq_counter(s:str):\n",
    "    s = s.lower()\n",
    "    c = Counter(s)\n",
    "    return c\n",
    "\n",
    "char_freq_counter('hollaaaa')"
   ]
  },
  {
   "cell_type": "markdown",
   "id": "10e6daf7-2a6d-452c-befd-ab382c806e63",
   "metadata": {
    "tags": []
   },
   "source": [
    "### 1. Check if given sentence is pangram"
   ]
  },
  {
   "cell_type": "code",
   "execution_count": 51,
   "id": "bfb4dc4c-da0d-47b1-85cc-275023ace4d5",
   "metadata": {},
   "outputs": [
    {
     "data": {
      "text/plain": [
       "False"
      ]
     },
     "execution_count": 51,
     "metadata": {},
     "output_type": "execute_result"
    }
   ],
   "source": [
    "def es_pangrama(s:str):\n",
    "    s = s.lower()\n",
    "    for x in ascii_lowercase:\n",
    "        if x not in s:\n",
    "            return False\n",
    "    return True\n",
    "    \n",
    "es_pangrama('hola')"
   ]
  },
  {
   "cell_type": "code",
   "execution_count": null,
   "id": "72cb45ab-4192-4b71-bb65-9b1899d295e3",
   "metadata": {
    "tags": []
   },
   "outputs": [
    {
     "data": {
      "text/plain": [
       "False"
      ]
     },
     "execution_count": 42,
     "metadata": {},
     "output_type": "execute_result"
    }
   ],
   "source": [
    "# implement O(N+M) es_pangrama\n",
    "\n",
    "def es_pangrama_faster(s:str):\n",
    "    d = char_freq_counter(s)\n",
    "    #print(d)\n",
    "    return set(d.keys()) == set(ascii_lowercase)\n",
    "    \n",
    "es_pangrama_faster('abcdefghijklmnopqrstuvwxyzzz')"
   ]
  },
  {
   "cell_type": "markdown",
   "id": "8faf8218-dce6-44c3-b092-152d99d3ae8b",
   "metadata": {},
   "source": [
    "### 2. Check if it's a perfect pangram i.e. only one occurrence of any letter"
   ]
  },
  {
   "cell_type": "code",
   "execution_count": 14,
   "id": "dfa6f838-44c3-433d-b061-d37477ba6beb",
   "metadata": {},
   "outputs": [
    {
     "data": {
      "text/plain": [
       "False"
      ]
     },
     "execution_count": 14,
     "metadata": {},
     "output_type": "execute_result"
    }
   ],
   "source": [
    "def es_pangrama_perfecto(s:str):\n",
    "    s = s.lower()\n",
    "    for x in ascii_lowercase:\n",
    "        if s.count(x) != 1:\n",
    "            return False\n",
    "    return True\n",
    "    \n",
    "es_pangrama_perfecto('hola')"
   ]
  },
  {
   "cell_type": "code",
   "execution_count": null,
   "id": "6e2c2a55-04ac-4dc9-b065-f5832b223a00",
   "metadata": {},
   "outputs": [
    {
     "data": {
      "text/plain": [
       "False"
      ]
     },
     "execution_count": 45,
     "metadata": {},
     "output_type": "execute_result"
    }
   ],
   "source": [
    "# implement O(N+M) es_pangrama_perfecto\n",
    "\n",
    "def es_pangrama_perfecto_faster(s:str):\n",
    "    d = char_freq_counter(s)\n",
    "    #print(d)\n",
    "    if set(d.keys()) != set(ascii_lowercase): return False\n",
    "    for x in d.values():\n",
    "        if x != 1: return False\n",
    "    return True\n",
    "    \n",
    "es_pangrama_perfecto_faster('abcdefghijklmnopqrstuvwxyzz')"
   ]
  },
  {
   "cell_type": "markdown",
   "id": "53689304-221d-48ca-a54d-a64804f00970",
   "metadata": {
    "tags": []
   },
   "source": [
    "### 3. Check if two sentences are anagrams"
   ]
  },
  {
   "cell_type": "code",
   "execution_count": 81,
   "id": "536776b3-3b12-4cb7-9497-63eea9c36107",
   "metadata": {},
   "outputs": [
    {
     "data": {
      "text/plain": [
       "True"
      ]
     },
     "execution_count": 81,
     "metadata": {},
     "output_type": "execute_result"
    }
   ],
   "source": [
    "def is_anagram(string1, string2):\n",
    "    d1 = char_freq_counter(string1)\n",
    "    d2 = char_freq_counter(string2)\n",
    "    return (set(d1.keys()) == set(d2.keys()) and (set(d1.values()) == {1}) and (set(d2.values()) == {1}))\n",
    "\n",
    "is_anagram('abc','bac')"
   ]
  },
  {
   "cell_type": "markdown",
   "id": "d3abdffc-08b5-42b2-87a7-8eb6bf6a4aa7",
   "metadata": {},
   "source": [
    "### 4. Implement grep: given file return list of lines containing the given word"
   ]
  },
  {
   "cell_type": "code",
   "execution_count": 105,
   "id": "59c69066-e873-43a5-a61a-edbb460bb24e",
   "metadata": {},
   "outputs": [
    {
     "data": {
      "text/plain": [
       "['hola, esta es la primera línea\\n',\n",
       " 'la segunda línea del fichero prueba.txt\\n',\n",
       " 'por fin termina este fichero de 4 líneas hola hola\\n']"
      ]
     },
     "execution_count": 105,
     "metadata": {},
     "output_type": "execute_result"
    }
   ],
   "source": [
    "def simple_grep(filename, s_find):\n",
    "    lines_found = []\n",
    "    for line in open(filename):\n",
    "        i_find = 0 # counter over s_find\n",
    "        \n",
    "        for c in line: # looking for 'l' in this line\n",
    "            if i_find == len(s_find): \n",
    "                lines_found.append(line)\n",
    "                break\n",
    "            if s_find[i_find] == c:\n",
    "                i_find += 1\n",
    "            else:\n",
    "                i_find=0\n",
    "    return lines_found\n",
    "\n",
    "simple_grep('prueba.txt', 'la')"
   ]
  },
  {
   "cell_type": "markdown",
   "id": "2be8945b-bcfc-4390-8a3b-a9866a4d770e",
   "metadata": {},
   "source": [
    "### 6. Check if string is well parenthesized language"
   ]
  },
  {
   "cell_type": "code",
   "execution_count": null,
   "id": "b96cb4a5-b8bb-4e4a-b397-3b0368de4ae3",
   "metadata": {},
   "outputs": [],
   "source": []
  }
 ],
 "metadata": {
  "kernelspec": {
   "display_name": "Python 3 (ipykernel)",
   "language": "python",
   "name": "python3"
  },
  "language_info": {
   "codemirror_mode": {
    "name": "ipython",
    "version": 3
   },
   "file_extension": ".py",
   "mimetype": "text/x-python",
   "name": "python",
   "nbconvert_exporter": "python",
   "pygments_lexer": "ipython3",
   "version": "3.9.7"
  }
 },
 "nbformat": 4,
 "nbformat_minor": 5
}
